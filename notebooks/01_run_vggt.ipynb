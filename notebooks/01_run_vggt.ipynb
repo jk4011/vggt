{
 "cells": [
  {
   "cell_type": "code",
   "execution_count": 1,
   "id": "57f190bb",
   "metadata": {},
   "outputs": [
    {
     "name": "stdout",
     "output_type": "stream",
     "text": [
      "\u001b[41m\u001b[30m 1111 \u001b[0m\n"
     ]
    }
   ],
   "source": [
    "%load_ext autoreload\n",
    "%autoreload 2\n",
    "%matplotlib inline\n",
    "\n",
    "import os\n",
    "os.chdir('../')\n",
    "os.environ['CUDA_VISIBLE_DEVICES'] = '7'\n",
    "\n",
    "import sys\n",
    "sys.path.append(\"Marigold\")\n",
    "\n",
    "import torch\n",
    "import numpy as np\n",
    "import jhutil; jhutil.color_log(1111, )"
   ]
  },
  {
   "cell_type": "code",
   "execution_count": 2,
   "id": "03ed5896",
   "metadata": {},
   "outputs": [],
   "source": [
    "import sys\n",
    "sys.argv = [\"demo_colmap.py\" ,\"--scene_dir=examples/kitchen\" ,\"--use_ba\"]\n"
   ]
  },
  {
   "cell_type": "code",
   "execution_count": 3,
   "id": "ae5bc5f1",
   "metadata": {},
   "outputs": [],
   "source": [
    "from demo_colmap import parse_args\n",
    "args = parse_args()"
   ]
  },
  {
   "cell_type": "code",
   "execution_count": 4,
   "id": "87997418",
   "metadata": {},
   "outputs": [
    {
     "name": "stdout",
     "output_type": "stream",
     "text": [
      "Arguments: {'scene_dir': 'examples/kitchen', 'seed': 42, 'use_ba': True, 'max_reproj_error': 8.0, 'shared_camera': False, 'camera_type': 'SIMPLE_PINHOLE', 'vis_thresh': 0.2, 'query_frame_num': 8, 'max_query_pts': 4096, 'fine_tracking': True, 'conf_thres_value': 5.0}\n",
      "Setting seed as: 42\n",
      "Using device: cuda\n",
      "Using dtype: torch.bfloat16\n",
      "Model loaded\n",
      "Loaded 25 images from examples/kitchen/images\n"
     ]
    }
   ],
   "source": [
    "from demo_colmap import *\n",
    "\n",
    "\n",
    "with torch.no_grad():    \n",
    "    # Print configuration\n",
    "    print(\"Arguments:\", vars(args))\n",
    "\n",
    "    # Set seed for reproducibility\n",
    "    np.random.seed(args.seed)\n",
    "    torch.manual_seed(args.seed)\n",
    "    random.seed(args.seed)\n",
    "    if torch.cuda.is_available():\n",
    "        torch.cuda.manual_seed(args.seed)\n",
    "        torch.cuda.manual_seed_all(args.seed)  # for multi-GPU\n",
    "    print(f\"Setting seed as: {args.seed}\")\n",
    "\n",
    "    # Set device and dtype\n",
    "    dtype = torch.bfloat16 if torch.cuda.get_device_capability()[0] >= 8 else torch.float16\n",
    "    device = \"cuda\" if torch.cuda.is_available() else \"cpu\"\n",
    "    print(f\"Using device: {device}\")\n",
    "    print(f\"Using dtype: {dtype}\")\n",
    "\n",
    "    # Run VGGT for camera and depth estimation\n",
    "    model = VGGT()\n",
    "    _URL = \"https://huggingface.co/facebook/VGGT-1B/resolve/main/model.pt\"\n",
    "    model.load_state_dict(torch.hub.load_state_dict_from_url(_URL))\n",
    "    model.eval()\n",
    "    model = model.to(device)\n",
    "    print(f\"Model loaded\")\n",
    "\n",
    "    # Get image paths and preprocess them\n",
    "    image_dir = os.path.join(args.scene_dir, \"images\")\n",
    "    image_path_list = glob.glob(os.path.join(image_dir, \"*\"))\n",
    "    if len(image_path_list) == 0:\n",
    "        raise ValueError(f\"No images found in {image_dir}\")\n",
    "    base_image_path_list = [os.path.basename(path) for path in image_path_list]\n",
    "\n",
    "    # Load images and original coordinates\n",
    "    # Load Image in 1024, while running VGGT with 518\n",
    "    vggt_fixed_resolution = 518\n",
    "    img_load_resolution = 1024\n",
    "\n",
    "    images, original_coords = load_and_preprocess_images_square(image_path_list, img_load_resolution)\n",
    "    images = images.to(device)\n",
    "    original_coords = original_coords.to(device)\n",
    "    print(f\"Loaded {len(images)} images from {image_dir}\")\n"
   ]
  },
  {
   "cell_type": "code",
   "execution_count": 5,
   "id": "cabf96d1",
   "metadata": {},
   "outputs": [],
   "source": [
    "with torch.no_grad():\n",
    "    # Run VGGT to estimate camera and depth\n",
    "    # Run with 518x518 images\n",
    "    extrinsic, intrinsic, depth_map, depth_conf = run_VGGT(model, images, dtype, vggt_fixed_resolution)\n",
    "    points_3d = unproject_depth_map_to_point_map(depth_map, extrinsic, intrinsic)"
   ]
  },
  {
   "cell_type": "code",
   "execution_count": null,
   "id": "df466b0b",
   "metadata": {},
   "outputs": [],
   "source": [
    "with torch.no_grad():\n",
    "\n",
    "    if args.use_ba:\n",
    "        image_size = np.array(images.shape[-2:])\n",
    "        scale = img_load_resolution / vggt_fixed_resolution\n",
    "        shared_camera = args.shared_camera\n",
    "\n",
    "        with torch.cuda.amp.autocast(dtype=dtype):\n",
    "            # Predicting Tracks\n",
    "            # Using VGGSfM tracker instead of VGGT tracker for efficiency\n",
    "            # VGGT tracker requires multiple backbone runs to query different frames (this is a problem caused by the training process)\n",
    "            # Will be fixed in VGGT v2\n",
    "\n",
    "            # You can also change the pred_tracks to tracks from any other methods\n",
    "            # e.g., from COLMAP, from CoTracker, or by chaining 2D matches from Lightglue/LoFTR.\n",
    "            pred_tracks, pred_vis_scores, pred_confs, points_3d, points_rgb = predict_tracks(\n",
    "                images,\n",
    "                conf=depth_conf,\n",
    "                points_3d=points_3d,\n",
    "                masks=None,\n",
    "                max_query_pts=args.max_query_pts,\n",
    "                query_frame_num=args.query_frame_num,\n",
    "                keypoint_extractor=\"aliked+sp\",\n",
    "                fine_tracking=args.fine_tracking,\n",
    "            )\n",
    "\n",
    "            torch.cuda.empty_cache()\n",
    "\n",
    "        # rescale the intrinsic matrix from 518 to 1024\n",
    "        intrinsic[:, :2, :] *= scale\n",
    "        track_mask = pred_vis_scores > args.vis_thresh\n",
    "\n",
    "        # TODO: radial distortion, iterative BA, masks\n",
    "        reconstruction, valid_track_mask = batch_np_matrix_to_pycolmap(\n",
    "            points_3d,\n",
    "            extrinsic,\n",
    "            intrinsic,\n",
    "            pred_tracks,\n",
    "            image_size,\n",
    "            masks=track_mask,\n",
    "            max_reproj_error=args.max_reproj_error,\n",
    "            shared_camera=shared_camera,\n",
    "            camera_type=args.camera_type,\n",
    "            points_rgb=points_rgb,\n",
    "        )\n",
    "\n",
    "        if reconstruction is None:\n",
    "            raise ValueError(\"No reconstruction can be built with BA\")\n",
    "\n",
    "        # Bundle Adjustment\n",
    "        ba_options = pycolmap.BundleAdjustmentOptions()\n",
    "        pycolmap.bundle_adjustment(reconstruction, ba_options)\n",
    "\n",
    "        reconstruction_resolution = img_load_resolution\n",
    "    \n",
    "    reconstruction = rename_colmap_recons_and_rescale_camera(\n",
    "        reconstruction,\n",
    "        base_image_path_list,\n",
    "        original_coords.cpu().numpy(),\n",
    "        img_size=reconstruction_resolution,\n",
    "        shift_point2d_to_original_res=True,\n",
    "        shared_camera=shared_camera,\n",
    "    )\n",
    "\n",
    "    print(f\"Saving reconstruction to {args.scene_dir}/sparse\")\n",
    "    sparse_reconstruction_dir = os.path.join(args.scene_dir, \"sparse\")\n",
    "    os.makedirs(sparse_reconstruction_dir, exist_ok=True)\n",
    "    reconstruction.write(sparse_reconstruction_dir)\n",
    "\n",
    "    # Save point cloud for fast visualization\n",
    "    trimesh.PointCloud(points_3d, colors=points_rgb).export(os.path.join(args.scene_dir, \"sparse/points.ply\"))"
   ]
  },
  {
   "cell_type": "code",
   "execution_count": null,
   "id": "219e9ff1",
   "metadata": {},
   "outputs": [],
   "source": []
  },
  {
   "cell_type": "code",
   "execution_count": null,
   "id": "f29e9f7b",
   "metadata": {},
   "outputs": [],
   "source": []
  },
  {
   "cell_type": "code",
   "execution_count": null,
   "id": "fd79b063",
   "metadata": {},
   "outputs": [],
   "source": []
  },
  {
   "cell_type": "code",
   "execution_count": null,
   "id": "8a0b77b2",
   "metadata": {},
   "outputs": [],
   "source": []
  }
 ],
 "metadata": {
  "kernelspec": {
   "display_name": "vggt",
   "language": "python",
   "name": "python3"
  },
  "language_info": {
   "codemirror_mode": {
    "name": "ipython",
    "version": 3
   },
   "file_extension": ".py",
   "mimetype": "text/x-python",
   "name": "python",
   "nbconvert_exporter": "python",
   "pygments_lexer": "ipython3",
   "version": "3.11.11"
  }
 },
 "nbformat": 4,
 "nbformat_minor": 5
}
